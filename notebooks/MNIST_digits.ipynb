{
 "cells": [
  {
   "cell_type": "markdown",
   "metadata": {},
   "source": [
    "# Import Required Libraries\n",
    "Import the necessary libraries, including numpy, matplotlib, keras, and os."
   ]
  },
  {
   "cell_type": "code",
   "execution_count": 1,
   "metadata": {},
   "outputs": [
    {
     "name": "stdout",
     "output_type": "stream",
     "text": [
      "WARNING:tensorflow:From c:\\MEIN_PLATZ\\Git\\SimpleNeuralFramework\\venv\\Lib\\site-packages\\keras\\src\\losses.py:2976: The name tf.losses.sparse_softmax_cross_entropy is deprecated. Please use tf.compat.v1.losses.sparse_softmax_cross_entropy instead.\n",
      "\n"
     ]
    }
   ],
   "source": [
    "import os\n",
    "\n",
    "import numpy as np\n",
    "from tensorflow.keras.datasets import mnist\n",
    "import matplotlib.pyplot as plt"
   ]
  },
  {
   "cell_type": "markdown",
   "metadata": {},
   "source": [
    "# Define Constants\n",
    "Define constants such as the size of the training set."
   ]
  },
  {
   "cell_type": "code",
   "execution_count": 2,
   "metadata": {},
   "outputs": [],
   "source": [
    "# Define Constants\n",
    "\n",
    "# The number of training examples to use\n",
    "TRAINING_SIZE = 60000\n",
    "\n",
    "# The fraction of the training data to use for validation\n",
    "SPLIT = 0.8\n",
    "\n",
    "# The number of test examples to use\n",
    "TEST_SIZE = 10000\n",
    "\n",
    "# The number of classes in the dataset (10 digits from 0 to 9)\n",
    "NUM_CLASSES = 10\n",
    "\n",
    "# The number of epochs to train for\n",
    "EPOCHS = 10\n",
    "\n",
    "# The batch size for training\n",
    "BATCH_SIZE = 128\n",
    "\n",
    "# The dimensions of the images in the dataset (28x28 pixels)\n",
    "IMG_ROWS, IMG_COLS = 28, 28\n",
    "\n",
    "# Input shape for the model\n",
    "INPUT_SHAPE = IMG_ROWS * IMG_COLS"
   ]
  },
  {
   "cell_type": "markdown",
   "metadata": {},
   "source": [
    "# Prepare and Preprocess MNIST Data\n",
    "Load the MNIST dataset, reshape, normalize, shuffle, and split it into train and test sets."
   ]
  },
  {
   "cell_type": "code",
   "execution_count": 3,
   "metadata": {},
   "outputs": [
    {
     "name": "stdout",
     "output_type": "stream",
     "text": [
      "x_train: (784, 48000)\n",
      "x_val: (784, 12000)\n",
      "x_test: (784, 10000)\n",
      "y_train: (10, 48000)\n",
      "y_val: (10, 12000)\n",
      "y_test: (10, 10000)\n"
     ]
    }
   ],
   "source": [
    "# Load the MNIST dataset\n",
    "(x_train, y_train), (x_test, y_test) = mnist.load_data()\n",
    "\n",
    "# Reshape the data to fit the model\n",
    "x_train = x_train.reshape(x_train.shape[0], INPUT_SHAPE)\n",
    "x_test = x_test.reshape(x_test.shape[0], INPUT_SHAPE)\n",
    "\n",
    "# Normalize the pixel values from a scale out of 255 to a scale out of 1\n",
    "x_train = x_train.astype('float32')\n",
    "x_test = x_test.astype('float32')\n",
    "x_train /= 255\n",
    "x_test /= 255\n",
    "\n",
    "# Shuffle the training dataset (for better randomization)\n",
    "shuffle_index = np.random.permutation(TRAINING_SIZE)\n",
    "x_train, y_train = x_train[shuffle_index], y_train[shuffle_index]\n",
    "\n",
    "# Split the data into train and test sets\n",
    "index_to_split = int(TRAINING_SIZE * SPLIT)\n",
    "x_train, x_val = x_train[:index_to_split].T, x_train[index_to_split:].T\n",
    "y_train, y_val = y_train[:index_to_split].T, y_train[index_to_split:].T\n",
    "x_test = x_test.T\n",
    "\n",
    "# One-hot encode the labels and transpose\n",
    "y_train = np.eye(NUM_CLASSES)[y_train].T \n",
    "y_val = np.eye(NUM_CLASSES)[y_val].T\n",
    "y_test = np.eye(NUM_CLASSES)[y_test].T\n",
    "\n",
    "# Print sizes\n",
    "print('x_train:', x_train.shape)\n",
    "print('x_val:', x_val.shape)\n",
    "print('x_test:', x_test.shape)\n",
    "print('y_train:', y_train.shape)\n",
    "print('y_val:', y_val.shape)\n",
    "print('y_test:', y_test.shape)"
   ]
  },
  {
   "cell_type": "markdown",
   "metadata": {},
   "source": [
    "# Train First Neural Network with Dense Layers"
   ]
  },
  {
   "cell_type": "code",
   "execution_count": 6,
   "metadata": {},
   "outputs": [],
   "source": [
    "import os\n",
    "import sys\n",
    "\n",
    "sys.path.append(os.path.join(os.path.curdir, '..'))\n"
   ]
  },
  {
   "cell_type": "code",
   "execution_count": 7,
   "metadata": {},
   "outputs": [
    {
     "name": "stdout",
     "output_type": "stream",
     "text": [
      "(784, 48000)\n"
     ]
    }
   ],
   "source": [
    "# print Shape x_train\n",
    "\n",
    "print(x_train.shape)"
   ]
  },
  {
   "cell_type": "code",
   "execution_count": 8,
   "metadata": {},
   "outputs": [
    {
     "data": {
      "text/plain": [
       "<module 'net_modules.losses' from 'C:\\\\MEIN_PLATZ\\\\Git\\\\SimpleNeuralFramework\\\\net_modules\\\\losses.py'>"
      ]
     },
     "execution_count": 8,
     "metadata": {},
     "output_type": "execute_result"
    }
   ],
   "source": [
    "import net_modules.models as models\n",
    "import net_modules.layers as layers\n",
    "import net_modules.losses as losses\n",
    "\n",
    "import importlib \n",
    "importlib.reload(models)\n",
    "importlib.reload(layers)\n",
    "importlib.reload(losses)"
   ]
  },
  {
   "cell_type": "code",
   "execution_count": 9,
   "metadata": {},
   "outputs": [
    {
     "name": "stdout",
     "output_type": "stream",
     "text": [
      "Epoch 1/100, Error: 14.575444876398048\n",
      "Epoch 2/100, Error: 13.958183135382571\n",
      "Epoch 3/100, Error: 13.433943218993994\n",
      "Epoch 4/100, Error: 12.957158196915044\n",
      "Epoch 5/100, Error: 12.510193142599832\n",
      "Epoch 6/100, Error: 12.085568327935993\n",
      "Epoch 7/100, Error: 11.679715177188921\n",
      "Epoch 8/100, Error: 11.290691392574152\n",
      "Epoch 9/100, Error: 10.917339026316618\n",
      "Epoch 10/100, Error: 10.558952614295116\n",
      "Epoch 11/100, Error: 10.21510356845411\n",
      "Epoch 12/100, Error: 9.885500852500753\n",
      "Epoch 13/100, Error: 9.569916135561844\n",
      "Epoch 14/100, Error: 9.268124793183224\n",
      "Epoch 15/100, Error: 8.979884282264786\n",
      "Epoch 16/100, Error: 8.704921908533994\n",
      "Epoch 17/100, Error: 8.442928344335462\n",
      "Epoch 18/100, Error: 8.193556385990444\n",
      "Epoch 19/100, Error: 7.956412440246552\n",
      "Epoch 20/100, Error: 7.731068599566268\n",
      "Epoch 21/100, Error: 7.517079100411167\n",
      "Epoch 22/100, Error: 7.313977500378194\n",
      "Epoch 23/100, Error: 7.12128787658128\n",
      "Epoch 24/100, Error: 6.938528861284015\n",
      "Epoch 25/100, Error: 6.765217969186999\n",
      "Epoch 26/100, Error: 6.600877419045105\n",
      "Epoch 27/100, Error: 6.445036790295723\n",
      "Epoch 28/100, Error: 6.297237332218715\n",
      "Epoch 29/100, Error: 6.157034189930899\n",
      "Epoch 30/100, Error: 6.023996996495368\n",
      "Epoch 31/100, Error: 5.897713226880816\n",
      "Epoch 32/100, Error: 5.7777881267024815\n",
      "Epoch 33/100, Error: 5.663845545842955\n",
      "Epoch 34/100, Error: 5.555528090553282\n",
      "Epoch 35/100, Error: 5.4524973763495606\n",
      "Epoch 36/100, Error: 5.354434194332983\n",
      "Epoch 37/100, Error: 5.261038121075756\n",
      "Epoch 38/100, Error: 5.172026840457574\n",
      "Epoch 39/100, Error: 5.087135545367398\n",
      "Epoch 40/100, Error: 5.006116168272116\n",
      "Epoch 41/100, Error: 4.928736540506628\n",
      "Epoch 42/100, Error: 4.854779546050065\n",
      "Epoch 43/100, Error: 4.784042258395186\n",
      "Epoch 44/100, Error: 4.716335226256515\n",
      "Epoch 45/100, Error: 4.651481824017498\n",
      "Epoch 46/100, Error: 4.589317308717185\n",
      "Epoch 47/100, Error: 4.529687898787789\n",
      "Epoch 48/100, Error: 4.472450059511053\n",
      "Epoch 49/100, Error: 4.417469845220377\n",
      "Epoch 50/100, Error: 4.364622234976813\n",
      "Epoch 51/100, Error: 4.313790520120938\n",
      "Epoch 52/100, Error: 4.264865765311367\n",
      "Epoch 53/100, Error: 4.217746188529374\n",
      "Epoch 54/100, Error: 4.172336641831983\n",
      "Epoch 55/100, Error: 4.128548113673957\n",
      "Epoch 56/100, Error: 4.086297254093443\n",
      "Epoch 57/100, Error: 4.045506064530018\n",
      "Epoch 58/100, Error: 4.006101546365111\n",
      "Epoch 59/100, Error: 3.968015242486558\n",
      "Epoch 60/100, Error: 3.931182940107459\n",
      "Epoch 61/100, Error: 3.895544371575249\n",
      "Epoch 62/100, Error: 3.861042925120679\n",
      "Epoch 63/100, Error: 3.827625420157042\n",
      "Epoch 64/100, Error: 3.7952418174755485\n",
      "Epoch 65/100, Error: 3.7638450324062624\n",
      "Epoch 66/100, Error: 3.733390712982814\n",
      "Epoch 67/100, Error: 3.70383705470376\n",
      "Epoch 68/100, Error: 3.675144656767535\n",
      "Epoch 69/100, Error: 3.64727632758229\n",
      "Epoch 70/100, Error: 3.6201969586882368\n",
      "Epoch 71/100, Error: 3.593873387707248\n",
      "Epoch 72/100, Error: 3.5682743073318224\n",
      "Epoch 73/100, Error: 3.5433700814554228\n",
      "Epoch 74/100, Error: 3.5191326076630487\n",
      "Epoch 75/100, Error: 3.495535256883354\n",
      "Epoch 76/100, Error: 3.472552790920075\n",
      "Epoch 77/100, Error: 3.450161270560022\n",
      "Epoch 78/100, Error: 3.4283379914946783\n",
      "Epoch 79/100, Error: 3.4070613934096707\n",
      "Epoch 80/100, Error: 3.386310989334389\n",
      "Epoch 81/100, Error: 3.3660672906962756\n",
      "Epoch 82/100, Error: 3.3463117576028085\n",
      "Epoch 83/100, Error: 3.3270267485417593\n",
      "Epoch 84/100, Error: 3.30819544702947\n",
      "Epoch 85/100, Error: 3.2898018390992485\n",
      "Epoch 86/100, Error: 3.2718306635910985\n",
      "Epoch 87/100, Error: 3.2542673568072913\n",
      "Epoch 88/100, Error: 3.2370980255850323\n",
      "Epoch 89/100, Error: 3.220309398430087\n",
      "Epoch 90/100, Error: 3.203888777337765\n",
      "Epoch 91/100, Error: 3.1878240240711553\n",
      "Epoch 92/100, Error: 3.1721035255227155\n",
      "Epoch 93/100, Error: 3.1567161735381957\n",
      "Epoch 94/100, Error: 3.141651342269338\n",
      "Epoch 95/100, Error: 3.1268988533024014\n",
      "Epoch 96/100, Error: 3.112448936694132\n",
      "Epoch 97/100, Error: 3.098292229173774\n",
      "Epoch 98/100, Error: 3.08441975216993\n",
      "Epoch 99/100, Error: 3.070822891501357\n",
      "Epoch 100/100, Error: 3.0574933761062155\n"
     ]
    }
   ],
   "source": [
    "\n",
    "model = models.Sequential()\n",
    "model.add(layers.Dense(INPUT_SHAPE, 64))\n",
    "model.add(layers.ELU())\n",
    "model.add(layers.Dense(64, NUM_CLASSES))\n",
    "model.add(layers.Softmax(cross_entropy_loss=True))\n",
    "\n",
    "model.compile(loss=losses.CrossEntropy())\n",
    "\n",
    "model.fit(x_train, y_train, epochs=100, learning_rate=0.1)"
   ]
  },
  {
   "cell_type": "code",
   "execution_count": 10,
   "metadata": {},
   "outputs": [
    {
     "name": "stdout",
     "output_type": "stream",
     "text": [
      "loss (crossentropy): 3.0444, accuracy: 0.8735\n"
     ]
    },
    {
     "data": {
      "text/plain": [
       "{'loss': 3.0444232659482986, 'accuracy': 0.8735208333333333}"
      ]
     },
     "execution_count": 10,
     "metadata": {},
     "output_type": "execute_result"
    }
   ],
   "source": [
    "model.evaluate(x_train, y_train, metrics=['accuracy'])"
   ]
  },
  {
   "cell_type": "code",
   "execution_count": 11,
   "metadata": {},
   "outputs": [
    {
     "name": "stdout",
     "output_type": "stream",
     "text": [
      "Predicted: 7, True: 7\n",
      "Predicted: 2, True: 2\n",
      "Predicted: 1, True: 1\n",
      "Predicted: 0, True: 0\n",
      "Predicted: 4, True: 4\n",
      "Predicted: 1, True: 1\n",
      "Predicted: 4, True: 4\n",
      "Predicted: 9, True: 9\n",
      "Predicted: 6, True: 5\n",
      "Predicted: 9, True: 9\n"
     ]
    }
   ],
   "source": [
    "y_pred = model.predict(x_test)\n",
    "y_pred = np.argmax(y_pred, axis=0)\n",
    "y_true = np.argmax(y_test, axis=0)\n",
    "\n",
    "for i in range(10):\n",
    "    print(f'Predicted: {y_pred[i]}, True: {y_true[i]}')"
   ]
  }
 ],
 "metadata": {
  "kernelspec": {
   "display_name": "myenv",
   "language": "python",
   "name": "python3"
  },
  "language_info": {
   "codemirror_mode": {
    "name": "ipython",
    "version": 3
   },
   "file_extension": ".py",
   "mimetype": "text/x-python",
   "name": "python",
   "nbconvert_exporter": "python",
   "pygments_lexer": "ipython3",
   "version": "3.11.5"
  },
  "orig_nbformat": 4
 },
 "nbformat": 4,
 "nbformat_minor": 2
}
